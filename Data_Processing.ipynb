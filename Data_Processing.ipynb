{
  "nbformat": 4,
  "nbformat_minor": 0,
  "metadata": {
    "colab": {
      "name": "Data Processing.ipynb",
      "provenance": [],
      "collapsed_sections": [],
      "toc_visible": true,
      "mount_file_id": "1UEJOozgtDQJao4piBBmCUVsryhyxbwAt",
      "authorship_tag": "ABX9TyOOSIzE2PJnztquWqob8pWh",
      "include_colab_link": true
    },
    "kernelspec": {
      "name": "python3",
      "display_name": "Python 3"
    }
  },
  "cells": [
    {
      "cell_type": "markdown",
      "metadata": {
        "id": "view-in-github",
        "colab_type": "text"
      },
      "source": [
        "<a href=\"https://colab.research.google.com/github/rht6226/InnoHAR-NeuralNet/blob/master/Data_Processing.ipynb\" target=\"_parent\"><img src=\"https://colab.research.google.com/assets/colab-badge.svg\" alt=\"Open In Colab\"/></a>"
      ]
    },
    {
      "cell_type": "markdown",
      "metadata": {
        "id": "VNi9jWCiLdn6"
      },
      "source": [
        "# Loading data from Folder\r\n",
        "\r\n",
        "In this module we will be loading the available data into the system and then saving that data in format of numpy arrays for easily loading and training various models."
      ]
    },
    {
      "cell_type": "code",
      "metadata": {
        "id": "w-wObviWLYRD"
      },
      "source": [
        "# Imports\r\n",
        "import numpy\r\n",
        "from numpy import mean\r\n",
        "from numpy import std\r\n",
        "from numpy import dstack\r\n",
        "from pandas import read_csv"
      ],
      "execution_count": null,
      "outputs": []
    },
    {
      "cell_type": "code",
      "metadata": {
        "id": "XwvucwEJL9Sf"
      },
      "source": [
        "# load a single file as a numpy array\r\n",
        "def load_file(filepath):\r\n",
        "\tdataframe = read_csv(filepath, header=None, delim_whitespace=True)\r\n",
        "\treturn dataframe.values\r\n",
        "\r\n",
        "\r\n",
        "# load a list of files into a 3D array of [samples, timesteps, features]\r\n",
        "def load_group(filenames, prefix=''):\r\n",
        "\tloaded = list()\r\n",
        "\tfor name in filenames:\r\n",
        "\t\tdata = load_file(prefix + name)\r\n",
        "\t\tloaded.append(data)\r\n",
        "\t# stack group so that features are the 3rd dimension\r\n",
        "\tloaded = dstack(loaded)\r\n",
        "\treturn loaded\r\n",
        "\r\n",
        "# load a dataset group, such as train or test\r\n",
        "def load_dataset_group(group, prefix=''):\r\n",
        "\tfilepath = prefix + group + '/Inertial Signals/'\r\n",
        "\t# load all 9 files as a single array\r\n",
        "\tfilenames = list()\r\n",
        "\t# total acceleration\r\n",
        "\tfilenames += ['total_acc_x_'+group+'.txt', 'total_acc_y_'+group+'.txt', 'total_acc_z_'+group+'.txt']\r\n",
        "\t# body acceleration\r\n",
        "\tfilenames += ['body_acc_x_'+group+'.txt', 'body_acc_y_'+group+'.txt', 'body_acc_z_'+group+'.txt']\r\n",
        "\t# body gyroscope\r\n",
        "\tfilenames += ['body_gyro_x_'+group+'.txt', 'body_gyro_y_'+group+'.txt', 'body_gyro_z_'+group+'.txt']\r\n",
        "\t# load input data\r\n",
        "\tX = load_group(filenames, filepath)\r\n",
        "\t# load class output\r\n",
        "\ty = load_file(prefix + group + '/y_'+group+'.txt')\r\n",
        "\treturn X, y\r\n",
        "\r\n",
        "# load the dataset, returns train and test X and y elements\r\n",
        "def load_dataset(prefix=''):\r\n",
        "\t# load all train\r\n",
        "\ttrainX, trainy = load_dataset_group('train', prefix)\r\n",
        "\tprint(\"Shape of training data = X : {}, y: {}\".format(trainX.shape, trainy.shape))\r\n",
        "\t# load all test\r\n",
        "\ttestX, testy = load_dataset_group('test', prefix)\r\n",
        "\tprint(\"Shape of testing data = X : {}, y: {}\".format(testX.shape, testy.shape))\r\n",
        "\t# zero-offset class values (Since values stat from 1, we need to start them from zero)\r\n",
        "\ttrainy = trainy - 1\r\n",
        "\ttesty = testy - 1\r\n",
        "\tprint(\"Final shape of training data = X:{}, y: {}\\nFinal shape of testing data = X:{}, y: {}\\n\".format(trainX.shape, trainy.shape, testX.shape, testy.shape))\r\n",
        "\treturn (trainX, trainy), (testX, testy)"
      ],
      "execution_count": null,
      "outputs": []
    },
    {
      "cell_type": "code",
      "metadata": {
        "colab": {
          "base_uri": "https://localhost:8080/"
        },
        "id": "6UJsxJS8Mcej",
        "outputId": "330a6c80-b28e-4fef-88f5-0d0016a04e5c"
      },
      "source": [
        "# Load the data by calling required functions\r\n",
        "\r\n",
        "(trainX, trainy), (testX, testy) = load_dataset('/content/drive/MyDrive/InnoHAR/Dataset/UCI_HAR_Dataset/')"
      ],
      "execution_count": null,
      "outputs": [
        {
          "output_type": "stream",
          "text": [
            "Shape of training data = X : (7352, 128, 9), y: (7352, 1)\n",
            "Shape of testing data = X : (2947, 128, 9), y: (2947, 1)\n",
            "Final shape of training data = X:(7352, 128, 9), y: (7352, 1)\n",
            "Final shape of testing data = X:(2947, 128, 9), y: (2947, 1)\n",
            "\n"
          ],
          "name": "stdout"
        }
      ]
    },
    {
      "cell_type": "code",
      "metadata": {
        "id": "TeDeWmgRMrF3"
      },
      "source": [
        "# Saving the loaded dataset as numpy array\r\n",
        "fpath = '/content/drive/MyDrive/InnoHAR/ProcessedDataset/uci.npz'\r\n",
        "numpy.savez(file= fpath, trainX=trainX, trainy=trainy, testX=testX, testy=testy)"
      ],
      "execution_count": null,
      "outputs": []
    },
    {
      "cell_type": "code",
      "metadata": {
        "id": "wfga1o_DOBLZ"
      },
      "source": [
        "# Function for loading the dataset\r\n",
        "def load_uci(file):\r\n",
        "    with numpy.load(file) as data:\r\n",
        "        trainX = data['trainX']\r\n",
        "        trainy = data['trainy']\r\n",
        "        testX = data['testX']\r\n",
        "        testy = data['testy']\r\n",
        "    return (trainX, trainy), (testX, testy)"
      ],
      "execution_count": null,
      "outputs": []
    },
    {
      "cell_type": "code",
      "metadata": {
        "id": "IibfGqu3ORya"
      },
      "source": [
        "# Loading data from previously saved numpy array\r\n",
        "(trainX, trainy), (testX, testy) = load_uci(fpath)"
      ],
      "execution_count": null,
      "outputs": []
    },
    {
      "cell_type": "code",
      "metadata": {
        "colab": {
          "base_uri": "https://localhost:8080/"
        },
        "id": "P-v5Q_oyOUSH",
        "outputId": "105b4571-9168-4647-ff65-c6ffa375f929"
      },
      "source": [
        "print(\"Final shape of training data = X:{}, y: {}\\nFinal shape of testing data = X:{}, y: {}\\n\".format(trainX.shape, trainy.shape, testX.shape, testy.shape))"
      ],
      "execution_count": null,
      "outputs": [
        {
          "output_type": "stream",
          "text": [
            "Final shape of training data = X:(7352, 128, 9), y: (7352, 1)\n",
            "Final shape of testing data = X:(2947, 128, 9), y: (2947, 1)\n",
            "\n"
          ],
          "name": "stdout"
        }
      ]
    },
    {
      "cell_type": "code",
      "metadata": {
        "id": "6kkE8W9oOhSn"
      },
      "source": [
        ""
      ],
      "execution_count": null,
      "outputs": []
    }
  ]
}